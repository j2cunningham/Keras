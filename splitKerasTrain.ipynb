{
 "cells": [
  {
   "cell_type": "code",
   "execution_count": 33,
   "metadata": {
    "collapsed": true
   },
   "outputs": [],
   "source": [
    "# coding: utf-8\n",
    "\n",
    "# In[29]:\n",
    "\n",
    "import pandas as pd\n",
    "import os\n",
    "import shutil"
   ]
  },
  {
   "cell_type": "code",
   "execution_count": 34,
   "metadata": {
    "collapsed": true
   },
   "outputs": [],
   "source": [
    "# In[2]:\n",
    "\n",
    "truth = pd.read_csv(\"/Users/hul4/data/trainLabels.csv\")"
   ]
  },
  {
   "cell_type": "code",
   "execution_count": 35,
   "metadata": {
    "collapsed": false
   },
   "outputs": [
    {
     "data": {
      "text/plain": [
       "array(['n', '8', 'T', 'I', 'R', 'W', 'L', 'l', 'K', 'G', 'A', 'C', 'u',\n",
       "       't', 'N', 'O', 'k', 'D', 'w', 'E', 'H', 'e', 'i', 'r', 'a', '0',\n",
       "       '1', '6', 'o', 'c', 'S', '2', 'Y', 'Z', 'f', 'J', 'M', '5', 'd',\n",
       "       '7', 'P', 'F', 'j', 'b', 'q', 'X', '3', '4', 'U', '9', 'x', 'm',\n",
       "       'g', 'z', 'v', 'p', 'B', 'h', 'y', 's', 'V', 'Q'], dtype=object)"
      ]
     },
     "execution_count": 35,
     "metadata": {},
     "output_type": "execute_result"
    }
   ],
   "source": [
    "# In[15]:\n",
    "\n",
    "truth.Class.unique()"
   ]
  },
  {
   "cell_type": "code",
   "execution_count": 36,
   "metadata": {
    "collapsed": true
   },
   "outputs": [],
   "source": [
    "trainDf = truth.sample(frac=0.9)\n",
    "validDf = truth.loc[~truth.index.isin(trainDf.index)]"
   ]
  },
  {
   "cell_type": "code",
   "execution_count": 37,
   "metadata": {
    "collapsed": false
   },
   "outputs": [
    {
     "data": {
      "text/plain": [
       "(5655, 2)"
      ]
     },
     "execution_count": 37,
     "metadata": {},
     "output_type": "execute_result"
    }
   ],
   "source": [
    "trainDf.shape"
   ]
  },
  {
   "cell_type": "code",
   "execution_count": 38,
   "metadata": {
    "collapsed": false
   },
   "outputs": [
    {
     "data": {
      "text/plain": [
       "(628, 2)"
      ]
     },
     "execution_count": 38,
     "metadata": {},
     "output_type": "execute_result"
    }
   ],
   "source": [
    "validDf.shape"
   ]
  },
  {
   "cell_type": "code",
   "execution_count": 39,
   "metadata": {
    "collapsed": false
   },
   "outputs": [
    {
     "data": {
      "text/plain": [
       "6281"
      ]
     },
     "execution_count": 39,
     "metadata": {},
     "output_type": "execute_result"
    }
   ],
   "source": [
    "trainDf.ID.max()"
   ]
  },
  {
   "cell_type": "code",
   "execution_count": 40,
   "metadata": {
    "collapsed": false
   },
   "outputs": [
    {
     "data": {
      "text/plain": [
       "True"
      ]
     },
     "execution_count": 40,
     "metadata": {},
     "output_type": "execute_result"
    }
   ],
   "source": [
    "1000 in trainDf.ID"
   ]
  },
  {
   "cell_type": "code",
   "execution_count": 41,
   "metadata": {
    "collapsed": false
   },
   "outputs": [
    {
     "data": {
      "text/html": [
       "<div>\n",
       "<table border=\"1\" class=\"dataframe\">\n",
       "  <thead>\n",
       "    <tr style=\"text-align: right;\">\n",
       "      <th></th>\n",
       "      <th>ID</th>\n",
       "      <th>Class</th>\n",
       "    </tr>\n",
       "  </thead>\n",
       "  <tbody>\n",
       "    <tr>\n",
       "      <th>5219</th>\n",
       "      <td>5220</td>\n",
       "      <td>B</td>\n",
       "    </tr>\n",
       "  </tbody>\n",
       "</table>\n",
       "</div>"
      ],
      "text/plain": [
       "        ID Class\n",
       "5219  5220     B"
      ]
     },
     "execution_count": 41,
     "metadata": {},
     "output_type": "execute_result"
    }
   ],
   "source": [
    "trainDf[trainDf.ID == 5220]"
   ]
  },
  {
   "cell_type": "code",
   "execution_count": 42,
   "metadata": {
    "collapsed": false
   },
   "outputs": [
    {
     "data": {
      "text/plain": [
       "6281"
      ]
     },
     "execution_count": 42,
     "metadata": {},
     "output_type": "execute_result"
    }
   ],
   "source": [
    "trainDf.ID.max()"
   ]
  },
  {
   "cell_type": "code",
   "execution_count": 46,
   "metadata": {
    "collapsed": false
   },
   "outputs": [
    {
     "data": {
      "text/plain": [
       "True"
      ]
     },
     "execution_count": 46,
     "metadata": {},
     "output_type": "execute_result"
    }
   ],
   "source": [
    "trainDf.ix[5219].Class in ['A','B','C','D','E','F','G','H','I','J','K','L','M','N','O','P','Q','R','S'\\\n",
    "                          ,'T','U','V','W','X','Y','Z'] "
   ]
  },
  {
   "cell_type": "code",
   "execution_count": 47,
   "metadata": {
    "collapsed": false
   },
   "outputs": [],
   "source": [
    "for x in range(0,validDf.ID.max()):\n",
    "    if x in validDf.ID:\n",
    "        if validDf.ix[x].Class in ['A','B','C','D','E','F','G','H','I','J','K','L','M','N','O','P','Q','R','S'\\\n",
    "                          ,'T','U','V','W','X','Y','Z']:\n",
    "            if not os.path.exists(os.path.join('/Users/hul4/data/valid/',\"big\" + str(truth.ix[x].Class))):\n",
    "                os.makedirs(os.path.join('/Users/hul4/data/valid/',\"big\" + str(truth.ix[x].Class)))\n",
    "            newPath = os.path.join('/Users/hul4/data/',str(truth.ix[x].ID)+\".Bmp\")\n",
    "            shutil.copy(newPath,os.path.join('/Users/hul4/data/valid/',\"big\" + str(truth.ix[x].Class)))\n",
    "        else:\n",
    "            if not os.path.exists(os.path.join('/Users/hul4/data/valid/',truth.ix[x].Class)):\n",
    "                os.makedirs(os.path.join('/Users/hul4/data/valid/',truth.ix[x].Class))\n",
    "            newPath = os.path.join('/Users/hul4/data/',str(truth.ix[x].ID)+\".Bmp\")\n",
    "            shutil.copy(newPath,os.path.join('/Users/hul4/data/valid/',truth.ix[x].Class))"
   ]
  },
  {
   "cell_type": "code",
   "execution_count": null,
   "metadata": {
    "collapsed": true
   },
   "outputs": [],
   "source": [
    "\n",
    "for x in range(0,trainDf.ID.max()):\n",
    "    if x in trainDf.ID:\n",
    "        if trainDf.ix[x].Class in ['A','B','C','D','E','F','G','H','I','J','K','L','M','N','O','P','Q','R','S'\\\n",
    "                          ,'T','U','V','W','X','Y','Z']:\n",
    "            if not os.path.exists(os.path.join('/Users/hul4/data/train/',\"big\" + str(truth.ix[x].Class))):\n",
    "                os.makedirs(os.path.join('/Users/hul4/data/train/',\"big\" + str(truth.ix[x].Class)))\n",
    "            newPath = os.path.join('/Users/hul4/data/',str(truth.ix[x].ID)+\".Bmp\")\n",
    "            shutil.copy(newPath,os.path.join('/Users/hul4/data/train/',\"big\" + str(truth.ix[x].Class)))\n",
    "        else:\n",
    "            if not os.path.exists(os.path.join('/Users/hul4/data/train/',truth.ix[x].Class)):\n",
    "                os.makedirs(os.path.join('/Users/hul4/data/train/',truth.ix[x].Class))\n",
    "            newPath = os.path.join('/Users/hul4/data/',str(truth.ix[x].ID)+\".Bmp\")\n",
    "            shutil.copy(newPath,os.path.join('/Users/hul4/data/train/',truth.ix[x].Class))"
   ]
  },
  {
   "cell_type": "code",
   "execution_count": null,
   "metadata": {
    "collapsed": true
   },
   "outputs": [],
   "source": [
    "# In[53]:\n",
    "\n",
    "truth.Id"
   ]
  },
  {
   "cell_type": "code",
   "execution_count": null,
   "metadata": {
    "collapsed": true
   },
   "outputs": [],
   "source": [
    "# In[54]:\n",
    "\n",
    "len(truth.ID)"
   ]
  }
 ],
 "metadata": {
  "kernelspec": {
   "display_name": "Python (py35)",
   "language": "python",
   "name": "py35"
  },
  "language_info": {
   "codemirror_mode": {
    "name": "ipython",
    "version": 3
   },
   "file_extension": ".py",
   "mimetype": "text/x-python",
   "name": "python",
   "nbconvert_exporter": "python",
   "pygments_lexer": "ipython3",
   "version": "3.5.2"
  }
 },
 "nbformat": 4,
 "nbformat_minor": 2
}
